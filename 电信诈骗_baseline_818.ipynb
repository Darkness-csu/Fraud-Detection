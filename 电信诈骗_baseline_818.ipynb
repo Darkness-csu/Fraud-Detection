{
 "cells": [
  {
   "cell_type": "markdown",
   "metadata": {},
   "source": [
    "# 电信诈骗baseline\n",
    "\n",
    "1.84166测试样本，202000条训练样本，一共286166\n",
    "\n",
    "286372,交易流水中出现的账户数量\n",
    "286069,交易渠道中出现的账户数量\n",
    "\n",
    "交易渠道一共800多万条数据"
   ]
  },
  {
   "cell_type": "code",
   "execution_count": 1,
   "metadata": {},
   "outputs": [],
   "source": [
    "import pandas as pd\n",
    "import numpy as np\n",
    "from pandas import DataFrame, Series\n",
    "import seaborn as sns\n",
    "import logging\n",
    "from sklearn.metrics import roc_auc_score\n",
    "from sklearn.model_selection import StratifiedShuffleSplit,train_test_split\n",
    "import xgboost as xgb\n",
    "from xgboost import XGBClassifier\n",
    "import lightgbm as lgb\n",
    "from lightgbm import log_evaluation, early_stopping\n",
    "import scipy.signal as sg\n",
    "sns.set_style('whitegrid')\n",
    "import warnings\n",
    "warnings.filterwarnings('ignore')\n",
    "%matplotlib inline"
   ]
  },
  {
   "cell_type": "code",
   "execution_count": null,
   "metadata": {},
   "outputs": [],
   "source": [
    "data_transa_keep_cols = ['cust_no','tx_dt','biz_type','biz_line','term_curr_ind','cust_acct_num','cust_age','tx_amt_rmb','credit_debit_ind',\n",
    "                         'tx_method','tx_channel_type','tx_area','tx_nation_cd','cnter_cust_ind','cnter_cust_acct_num','is_cross_tx_ind',\n",
    "                         'is_cross_bank_ind','is_remote_ind','account_bal'\n",
    "                         ]"
   ]
  },
  {
   "cell_type": "code",
   "execution_count": null,
   "metadata": {},
   "outputs": [],
   "source": [
    "data_static_keep_cols = ['data_dt','cst_id','mo_incmam','comn_login_cnt1','comn_login_cnt2','comn_login_cnt3','ibs_tran_time1','ibs_tran_time2',\n",
    "                         'ibs_tran_time3','mbs_tran_time1','mbs_tran_time2','mbs_tran_time3','atm_tran_time1','atm_tran_time2','atm_tran_time3'\n",
    "                        ]"
   ]
  },
  {
   "cell_type": "code",
   "execution_count": null,
   "metadata": {},
   "outputs": [],
   "source": [
    "data_label_keep_cols = ['cardno','bad_flag']"
   ]
  },
  {
   "cell_type": "code",
   "execution_count": null,
   "metadata": {},
   "outputs": [],
   "source": [
    "#读入数据集,路径一定要正确\n",
    "data_transa = pd.read_csv('',usecols=data_transa_keep_cols) #交易流水表\n",
    "data_static = pd.read_csv('',usecols=data_static_keep_cols) #交易渠道表\n",
    "data_label = pd.read_csv('',usecols=data_label_keep_cols)  #训练集标签，一共202000条客户账号，不到202000个客户编号\n",
    "test_data = pd.read_csv('')                                #测试集数量，一共84166个样本"
   ]
  },
  {
   "cell_type": "code",
   "execution_count": null,
   "metadata": {},
   "outputs": [],
   "source": [
    "#统一各个表中的客户编号的列名，同一称作'cst_id',客户账号统一称做'cardno'\n",
    "data_transa.rename(columns={'cust_no':'cst_id', 'cust_acct_num':'cardno'}, inplace=True)\n",
    "data_transa.fillna(0,inplace=True)\n",
    "data_static.fillna(0,inplace=True)\n",
    "test_data.columns = ['cardno','cst_id','bad_flag','data_type']"
   ]
  },
  {
   "cell_type": "code",
   "execution_count": null,
   "metadata": {},
   "outputs": [],
   "source": [
    "#从data_transa提取各个客户账号的特征\n",
    "\n",
    "def get_feature_from_transa_one_account(data_sample: DataFrame):\n",
    "    feature_dict = {\n",
    "        'cardno':data_sample['cardno'].iloc[0],\n",
    "        'cst_id':data_sample['cst_id'].iloc[0]\n",
    "    }\n",
    "    \n",
    "    #总共的交易天数\n",
    "    feature_dict['jy_day_cnt'] = data_sample['tx_dt'].nunique()\n",
    "    #多少业务种类\n",
    "    feature_dict['biz_type_cnt'] = data_sample['biz_type'].nunique()\n",
    "    #多少业务条线\n",
    "    feature_dict['biz_line_cnt'] = data_sample['biz_line'].nunique()\n",
    "    #账户年龄\n",
    "    feature_dict['nl'] = data_sample['cust_age'].max()\n",
    "    \n",
    "    #总入(出)帐金额，以及占总金额的比例\n",
    "    feature_dict['in_amt'] = data_sample[data_sample['credit_debit_ind'] == '1']['tx_amt_rmb'].sum()\n",
    "    feature_dict['out_amt'] = data_sample[data_sample['credit_debit_ind'] == '0']['tx_amt_rmb'].sum()\n",
    "    feature_dict['in_amt_ratio'] = data_sample[data_sample['credit_debit_ind'] == '1']['tx_amt_rmb'].sum() / data_sample['tx_amt_rmb'].sum()\n",
    "\n",
    "    #总入(出)帐次数，以及占总次数的比例\n",
    "    feature_dict['in_opt_cnt'] = data_sample[data_sample['credit_debit_ind'] == '1'].shape[0]\n",
    "    feature_dict['out_opt_cnt'] = data_sample[data_sample['credit_debit_ind'] == '0'].shape[0]\n",
    "    feature_dict['in_opt_ratio'] = data_sample[data_sample['credit_debit_ind'] == '1'].shape[0] / data_sample.shape[0]\n",
    "    \n",
    "    opt_names = ['max','min','mean']\n",
    "\n",
    "    #入帐,出账，余额最大值、最小值、均值\n",
    "    for op in opt_names:\n",
    "        feature_dict['in_je_{}'.format(op.capitalize())] = data_sample[data_sample['credit_debit_ind'] == '1']['tx_amt_rmb'].agg(op)\n",
    "        feature_dict['out_je_{}'.format(op.capitalize())] = data_sample[data_sample['credit_debit_ind'] == '0']['tx_amt_rmb'].agg(op)\n",
    "        feature_dict['ye_{}'.format(op.capitalize())] = data_sample['account_bal'].agg(op)\n",
    "\n",
    "    #定活存交易数,占比\n",
    "    feature_dict['term_opt_cnt'] = data_sample[data_sample['term_curr_ind']=='1'].shape[0]\n",
    "    feature_dict['curr_opt_cnt'] = data_sample[data_sample['term_curr_ind']=='0'].shape[0]\n",
    "    feature_dict['term_opt_ratio'] = data_sample[data_sample['term_curr_ind']=='1'].shape[0] / data_sample.shape[0]\n",
    "\n",
    "    #多少种交易方式，交易渠道、交易发生地、交易国\n",
    "    feature_dict['jy_method_cnt'] = data_sample['tx_method'].nunique()\n",
    "    feature_dict['jy_qd_cnt'] = data_sample['tx_channel_type'].nunique()\n",
    "    feature_dict['jy_area_cnt'] = data_sample['tx_area'].nunique()\n",
    "    feature_dict['jy_nation_cnt'] = data_sample['tx_nation_cd'].nunique()\n",
    "\n",
    "    #与多少个不同的对方账户转账过，收到过多少不同账户的转账,占比\n",
    "    feature_dict['in_dfzh_tx_cnt'] = data_sample[data_sample['credit_debit_ind'] == '1']['cnter_cust_acct_num'].nunique()\n",
    "    feature_dict['out_dfzh_tx_cnt'] = data_sample[data_sample['credit_debit_ind'] == '0']['cnter_cust_acct_num'].nunique()\n",
    "    feature_dict['in_dfzh_ration'] = data_sample[data_sample['credit_debit_ind'] == '1']['cnter_cust_acct_num'].nunique() / data_sample['cnter_cust_acct_num'].nunique()\n",
    "\n",
    "    #对公对私交易数量，及占比\n",
    "    feature_dict['cnter_opt_cnt'] = data_sample[data_sample['cnter_cust_ind']=='1'].shape[0]\n",
    "    feature_dict['cust_opt_cnt'] = data_sample[data_sample['cnter_cust_ind']=='0'].shape[0]\n",
    "    feature_dict['cnter_opt_ratio'] = data_sample[data_sample['cnter_cust_ind']=='1'].shape[0] / data_sample.shape[0]\n",
    "\n",
    "    #跨境、跨行、异地交易数，金额，及其占比\n",
    "    is_col = ['cross_tx', 'cross_bank', 'remote']\n",
    "\n",
    "    for col in is_col:\n",
    "        feature_dict['{}_opt_cnt'.format(col)] = data_sample[data_sample['is_{}_ind'.format(col)]=='1'].shape[0]\n",
    "        feature_dict['{}_opt_ratio'.format(col)] = data_sample[data_sample['is_{}_ind'.format(col)]=='1'].shape[0] / data_sample.shape[0]\n",
    "        feature_dict['{}_amt'.format(col)] = data_sample[data_sample['is_{}_ind'.format(col)]=='1']['tx_amt_rmb'].sum()\n",
    "        feature_dict['{}_amt_ratio'.format(col)] = data_sample[data_sample['is_{}_ind'.format(col)]=='1']['tx_amt_rmb'].sum() / data_sample['tx_amt_rmb'].sum()\n",
    "\n",
    "    return pd.DataFrame([feature_dict])"
   ]
  },
  {
   "cell_type": "code",
   "execution_count": null,
   "metadata": {},
   "outputs": [],
   "source": [
    "#从data_static提取各个客户编号的特征\n",
    "\n",
    "def get_feature_from_static_one_account(data_sample: DataFrame):\n",
    "    feature_dict = {}\n",
    "\n",
    "    data_dict = data_sample.sort_values(by = 'data_dt', ascending=False).reset_index(drop=True).iloc[0].to_dict()\n",
    "\n",
    "    data_dict.pop('data_dt')\n",
    "\n",
    "    feature_dict.update(data_dict)\n",
    "\n",
    "    return pd.DataFrame([feature_dict])"
   ]
  },
  {
   "cell_type": "code",
   "execution_count": null,
   "metadata": {},
   "outputs": [],
   "source": [
    "#从data_transa里面提取每个客户账号的相应特征\n",
    "card_transa_features = data_transa.groupby('cardno').apply(get_feature_from_transa_one_account).reset_index(drop=True)"
   ]
  },
  {
   "cell_type": "code",
   "execution_count": null,
   "metadata": {},
   "outputs": [],
   "source": [
    "#从data_static里面提取每个账户\n",
    "cst_static_features = data_static.groupby('cst_id').apply(get_feature_from_static_one_account).reset_index(drop=True)"
   ]
  },
  {
   "cell_type": "code",
   "execution_count": null,
   "metadata": {},
   "outputs": [],
   "source": [
    "#合并两种特征\n",
    "card_features = pd.merge(card_transa_features, cst_static_features, on='cst_id', how='left')\n",
    "card_features.fillna(0, inplace=True)"
   ]
  },
  {
   "cell_type": "code",
   "execution_count": null,
   "metadata": {},
   "outputs": [],
   "source": [
    "#将诈骗标志加入进来\n",
    "card_features = pd.merge(card_features, data_label[['cardno','bad_flag']], on='cardno', how='left')"
   ]
  },
  {
   "cell_type": "code",
   "execution_count": null,
   "metadata": {},
   "outputs": [],
   "source": [
    "#检查一下\n",
    "print(card_features.shape)\n",
    "print(card_features['bad_flag'].notnull().sum())"
   ]
  },
  {
   "cell_type": "markdown",
   "metadata": {},
   "source": [
    "## 搭建模型"
   ]
  },
  {
   "cell_type": "code",
   "execution_count": null,
   "metadata": {},
   "outputs": [],
   "source": [
    "def train_lgb(X_train, y_train, X_val, y_val, X_test, cate_feats=None):\n",
    "\n",
    "    logging.info(f'#########training lgb....############')\n",
    "\n",
    "    dtrain = lgb.Dataset(X_train, y_train, categorical_feature=cate_feats)\n",
    "    dvalid = lgb.Dataset(X_val, y_val, categorical_feature=cate_feats, reference=dtrain)\n",
    "\n",
    "    params = {\n",
    "                'boosting_type': 'gbdt',\n",
    "                'objective': 'binary',\n",
    "                'metric': 'auc',\n",
    "                'min_child_weight': 5,\n",
    "                'num_leaves': 2 ** 5,\n",
    "                'lambda_l2': 10,\n",
    "                'feature_fraction': 0.8,\n",
    "                'bagging_fraction': 0.8,\n",
    "                'bagging_freq': 4,\n",
    "                'learning_rate': 0.01,\n",
    "                'seed': 2020,\n",
    "                'n_jobs':8\n",
    "            }\n",
    "    callbacks = [log_evaluation(period=200), early_stopping(stopping_rounds=200)]#stopping_rounds=30指如果验证集的误差在30次迭代内没有降低，则停止迭代。\n",
    "    gbm = lgb.train(params, dtrain, 10000, valid_sets=[dtrain, dvalid], \n",
    "                            categorical_feature=[], callbacks=callbacks)\n",
    "        \n",
    "    val_pred = gbm.predict(X_val, num_iteration=gbm.best_iteration)\n",
    "    \n",
    "    roc_auc_scores = roc_auc_score(y_val, val_pred)\n",
    "    print('auc_score:',roc_auc_scores)\n",
    "    \n",
    "    test_pred = gbm.predict(X_test, num_iteration=gbm.best_iteration)\n",
    "    \n",
    "    return gbm, test_pred"
   ]
  },
  {
   "cell_type": "code",
   "execution_count": null,
   "metadata": {},
   "outputs": [],
   "source": [
    "test_card_names = test_data['cardno'].to_list()"
   ]
  },
  {
   "cell_type": "code",
   "execution_count": null,
   "metadata": {},
   "outputs": [],
   "source": [
    "df_test = card_features[card_features['cardno'].isin(test_card_names)].reset_index(drop=True)\n",
    "df_test.set_index('cardno',inplace=True)\n",
    "df_test = df_test.reindex(test_card_names).reset_index()"
   ]
  },
  {
   "cell_type": "code",
   "execution_count": null,
   "metadata": {},
   "outputs": [],
   "source": [
    "df_train = card_features[card_features['bad_flag'].notnull()].reset_index(drop = True).iloc[:,2:] #去掉cardno和cst_id一列，保留bad_flag\n",
    "\n",
    "\n",
    "X_train_set,X_val_set = train_test_split(df_train, stratify=df_train['bad_flag'], test_size=0.2, random_state=1024)\n",
    "X_train_set = X_train_set.reset_index(drop=True)\n",
    "X_val_set = X_val_set.reset_index(drop=True)\n",
    "\n",
    "X_train,y_train,X_val,y_val = X_train_set.iloc[:,:-1],X_train_set.iloc[:,-1],X_val_set.iloc[:,:-1],X_val_set.iloc[:,-1]\n",
    "\n",
    "X_test = df_test.iloc[:,2:-1]\n",
    "\n",
    "g,test_pred = train_lgb(X_train, y_train, X_val, y_val, X_test)\n",
    "\n",
    "test_result = pd.DataFrame(\n",
    "    {\n",
    "        'cardno':test_data['cardno'].values,\n",
    "        'pred':test_pred\n",
    "    }\n",
    ")"
   ]
  },
  {
   "cell_type": "code",
   "execution_count": null,
   "metadata": {},
   "outputs": [],
   "source": [
    "test_result.to_csv('', encoding='utf_8_sig', index=False) #这里填写自己要保存到的路径"
   ]
  },
  {
   "cell_type": "code",
   "execution_count": null,
   "metadata": {},
   "outputs": [],
   "source": [
    "card_features.to_csv('', encoding='utf_8_sig', index=False)#保存提取的特征"
   ]
  }
 ],
 "metadata": {
  "kernelspec": {
   "display_name": "base",
   "language": "python",
   "name": "python3"
  },
  "language_info": {
   "codemirror_mode": {
    "name": "ipython",
    "version": 3
   },
   "file_extension": ".py",
   "mimetype": "text/x-python",
   "name": "python",
   "nbconvert_exporter": "python",
   "pygments_lexer": "ipython3",
   "version": "3.8.11"
  },
  "orig_nbformat": 4
 },
 "nbformat": 4,
 "nbformat_minor": 2
}
